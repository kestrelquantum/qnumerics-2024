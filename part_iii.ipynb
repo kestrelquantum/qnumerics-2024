{
 "cells": [
  {
   "cell_type": "code",
   "execution_count": null,
   "metadata": {},
   "outputs": [],
   "source": [
    "using NamedTrajectories\n",
    "using QuantumCollocation\n",
    "\n",
    "using CairoMakie\n",
    "using ForwardDiff\n",
    "using LinearAlgebra\n",
    "using Random"
   ]
  },
  {
   "cell_type": "markdown",
   "metadata": {},
   "source": [
    "# Example III.1\n",
    "-----\n",
    "**How to build a quantum control problem**"
   ]
  },
  {
   "cell_type": "markdown",
   "metadata": {},
   "source": [
    "Every quantum control problem requires a quantum system describing the dynamics, a goal, and time."
   ]
  },
  {
   "cell_type": "code",
   "execution_count": null,
   "metadata": {},
   "outputs": [],
   "source": [
    "system = QuantumSystem(0.01 * PAULIS[:Z], [PAULIS[:X], PAULIS[:Y]])\n",
    "U_goal = GATES[:X]\n",
    "\n",
    "## Number of timesteps\n",
    "T = 50\n",
    "\n",
    "## Duration of timestep\n",
    "Δt = 0.2"
   ]
  },
  {
   "cell_type": "markdown",
   "metadata": {},
   "source": [
    "**NamedTrajectories..jl** stores the problem data. It has a lot of fields to help with this."
   ]
  },
  {
   "cell_type": "code",
   "execution_count": null,
   "metadata": {},
   "outputs": [],
   "source": [
    "NamedTrajectory |> fieldnames"
   ]
  },
  {
   "cell_type": "code",
   "execution_count": null,
   "metadata": {},
   "outputs": [],
   "source": [
    "n_drives = length(system.H_drives)\n",
    "a_bounds = fill(1.0, n_drives)\n",
    "da_bounds = fill(1.0, n_drives)\n",
    "dda_bounds = fill(1.0, n_drives)\n",
    "\n",
    "## This will help us initialize the trajectory easily\n",
    "traj = initialize_unitary_trajectory(\n",
    "    U_goal,\n",
    "    T,\n",
    "    Δt,\n",
    "    n_drives,\n",
    "    (a = a_bounds, da = da_bounds, dda = dda_bounds)\n",
    ")"
   ]
  },
  {
   "cell_type": "markdown",
   "metadata": {},
   "source": [
    "The main thing a NamedTrajectory supports is indexing by symbols and plotting."
   ]
  },
  {
   "cell_type": "code",
   "execution_count": null,
   "metadata": {},
   "outputs": [],
   "source": [
    "## Inspect the control\n",
    "traj.a"
   ]
  },
  {
   "cell_type": "code",
   "execution_count": null,
   "metadata": {},
   "outputs": [],
   "source": [
    "plot(traj, [:a, :Ũ⃗])"
   ]
  },
  {
   "cell_type": "markdown",
   "metadata": {},
   "source": [
    "Trajectories also enable simple construction of objectives."
   ]
  },
  {
   "cell_type": "code",
   "execution_count": null,
   "metadata": {},
   "outputs": [],
   "source": [
    "Q = 100.0\n",
    "## Notice that we are using the iso_vec_operator symbol.\n",
    "J = UnitaryInfidelityObjective(:Ũ⃗, traj, Q)\n",
    "\n",
    "## Loss functions are evaluated on trajectories\n",
    "Z⃗ = vec(traj)\n",
    "J.L(Z⃗, traj)"
   ]
  },
  {
   "cell_type": "markdown",
   "metadata": {},
   "source": [
    "Look at that! The infidelity loss is already zero. Are we done?"
   ]
  },
  {
   "cell_type": "code",
   "execution_count": null,
   "metadata": {},
   "outputs": [],
   "source": [
    "R = 1e-2\n",
    "J += QuadraticRegularizer(:a, traj, R)\n",
    "J += QuadraticRegularizer(:da, traj, R)\n",
    "J += QuadraticRegularizer(:dda, traj, R)\n",
    "\n",
    "J.L(Z⃗, traj)"
   ]
  },
  {
   "cell_type": "markdown",
   "metadata": {},
   "source": [
    "Let's add the dynamics constraints."
   ]
  },
  {
   "cell_type": "code",
   "execution_count": null,
   "metadata": {},
   "outputs": [],
   "source": [
    "## Integrators\n",
    "integrators = [\n",
    "    UnitaryPadeIntegrator(system, :Ũ⃗, :a, traj),\n",
    "    DerivativeIntegrator(:a, :da, traj),\n",
    "    DerivativeIntegrator(:da, :dda, traj)\n",
    "]"
   ]
  },
  {
   "cell_type": "code",
   "execution_count": null,
   "metadata": {},
   "outputs": [],
   "source": [
    "Random.seed!(1234)\n",
    "ipopt_options = IpoptOptions(print_level=4, max_iter=50, recalc_y=\"yes\", recalc_y_feas_tol=1e-2)\n",
    "\n",
    "prob = QuantumControlProblem(\n",
    "    system,\n",
    "    traj,\n",
    "    J,\n",
    "    integrators,\n",
    "    ipopt_options=ipopt_options,\n",
    ")"
   ]
  },
  {
   "cell_type": "code",
   "execution_count": null,
   "metadata": {},
   "outputs": [],
   "source": [
    "solve!(prob)\n",
    "println(\"Unitary fidelity: \", unitary_fidelity(prob))"
   ]
  },
  {
   "cell_type": "code",
   "execution_count": null,
   "metadata": {},
   "outputs": [],
   "source": [
    "plot(prob.trajectory, [:a, :Ũ⃗])"
   ]
  },
  {
   "cell_type": "markdown",
   "metadata": {},
   "source": [
    "Of course, it is much easier to just call\n",
    "```Julia\n",
    "system = QuantumSystem(0.01 * PAULIS[:Z], [PAULIS[:X], PAULIS[:Y]])\n",
    "U_goal = GATES[:X]\n",
    "T = 50\n",
    "Δt = 0.2\n",
    "problem = UnitarySmoothPulseProblem(system, U_goal, T, Δt)\n",
    "solve!(problem)\n",
    "```"
   ]
  },
  {
   "cell_type": "markdown",
   "metadata": {},
   "source": [
    "# Exercises\n",
    "-----"
   ]
  },
  {
   "cell_type": "markdown",
   "metadata": {},
   "source": [
    "## Exercise III.1\n",
    "**Inspect a gradient for correctness**"
   ]
  },
  {
   "cell_type": "markdown",
   "metadata": {},
   "source": [
    "It is often the case that after we work very hard to solve for an analytic gradient, we need to make sure we did a good job coding it up. Not only do we need to profile the calculation to make sure our code is appropriately efficient, but we also need to be sure that our gradient was correct to begin with.\n",
    "\n",
    "The next cell defines the following objective:\n",
    "\\begin{equation}\n",
    "    J(\\vec{\\mathbf{Z}}) = ...\n",
    "\\end{equation}\n",
    "Unfortunately, we made a mistake when writing our gradient.\n",
    "\n",
    "Create a test trajectory, then use **ForwardDiff.jl** to help find the and fix the bug."
   ]
  },
  {
   "cell_type": "markdown",
   "metadata": {},
   "source": []
  },
  {
   "cell_type": "markdown",
   "metadata": {},
   "source": []
  },
  {
   "cell_type": "markdown",
   "metadata": {},
   "source": [
    "## Exercise III.2\n",
    "**The proble template grand tour**"
   ]
  },
  {
   "cell_type": "markdown",
   "metadata": {},
   "source": []
  }
 ],
 "metadata": {
  "kernelspec": {
   "display_name": "Julia 1.10.4",
   "language": "julia",
   "name": "julia-1.10"
  },
  "language_info": {
   "file_extension": ".jl",
   "mimetype": "application/julia",
   "name": "julia",
   "version": "1.10.4"
  }
 },
 "nbformat": 4,
 "nbformat_minor": 2
}
